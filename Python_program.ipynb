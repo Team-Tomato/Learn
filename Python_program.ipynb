{
  "nbformat": 4,
  "nbformat_minor": 0,
  "metadata": {
    "colab": {
      "name": "Python_program.ipynb",
      "provenance": [],
      "authorship_tag": "ABX9TyNcJzsFuPCfWBLqqZgU+IMN",
      "include_colab_link": true
    },
    "kernelspec": {
      "name": "python3",
      "display_name": "Python 3"
    }
  },
  "cells": [
    {
      "cell_type": "markdown",
      "metadata": {
        "id": "view-in-github",
        "colab_type": "text"
      },
      "source": [
        "<a href=\"https://colab.research.google.com/github/BARANI2001/Learn/blob/Barani%2Fteamtomato/Python_program.ipynb\" target=\"_parent\"><img src=\"https://colab.research.google.com/assets/colab-badge.svg\" alt=\"Open In Colab\"/></a>"
      ]
    },
    {
      "cell_type": "code",
      "metadata": {
        "id": "a5qkn1vO1SPz",
        "colab_type": "code",
        "outputId": "04e5f633-ea55-4097-f259-dcc660bcc688",
        "colab": {
          "base_uri": "https://localhost:8080/",
          "height": 71
        }
      },
      "source": [
        "num = int(input(\"enter a positive integer number to find prime or not: \"))\n",
        "for i in range(2, num//2):\n",
        "\tif num % i  == 0:\n",
        "\t\tprint(\"It is not a prime number\")\n",
        "\t\tbreak\n",
        "else:\n",
        "\tprint(\"It is a prime number\")"
      ],
      "execution_count": 1,
      "outputs": [
        {
          "output_type": "stream",
          "text": [
            "enter a positive integer number to find prime or not: 5\n",
            "It is a prime number\n"
          ],
          "name": "stdout"
        }
      ]
    },
    {
      "cell_type": "code",
      "metadata": {
        "id": "_Pb5NQ5v4Jl8",
        "colab_type": "code",
        "outputId": "a735b24c-65d5-4c17-9f41-43f66a20323c",
        "colab": {
          "base_uri": "https://localhost:8080/",
          "height": 68
        }
      },
      "source": [
        "X = [[1,2,3],  \n",
        "       [4,5,6],  \n",
        "       [7,8,9]]  \n",
        " \n",
        "Y = [[10,11,12],  \n",
        "      [13,14,15],  \n",
        "      [16,17,18]]  \n",
        " \n",
        "result = [[0,0,0],  \n",
        "               [0,0,0],  \n",
        "              [0,0,0]]  \n",
        " \n",
        "for i in range(len(X)):  \n",
        "   for j in range(len(Y[0])):  \n",
        "       for k in range(len(Y)):  \n",
        "           result[i][j] += X[i][k] * Y[k][j]  \n",
        "for r in result:  \n",
        "   print(r)"
      ],
      "execution_count": 2,
      "outputs": [
        {
          "output_type": "stream",
          "text": [
            "[84, 90, 96]\n",
            "[201, 216, 231]\n",
            "[318, 342, 366]\n"
          ],
          "name": "stdout"
        }
      ]
    }
  ]
}