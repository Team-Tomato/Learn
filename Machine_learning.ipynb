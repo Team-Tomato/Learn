{
  "nbformat": 4,
  "nbformat_minor": 0,
  "metadata": {
    "colab": {
      "name": "Machine learning.ipynb",
      "provenance": [],
      "collapsed_sections": [],
      "authorship_tag": "ABX9TyMO4DK0IxnRmVDD/lfonmoB",
      "include_colab_link": true
    },
    "kernelspec": {
      "name": "python3",
      "display_name": "Python 3"
    }
  },
  "cells": [
    {
      "cell_type": "markdown",
      "metadata": {
        "id": "view-in-github",
        "colab_type": "text"
      },
      "source": [
        "<a href=\"https://colab.research.google.com/github/Aparajithashri/Learn/blob/Aparajithashri%2FAction/Machine_learning.ipynb\" target=\"_parent\"><img src=\"https://colab.research.google.com/assets/colab-badge.svg\" alt=\"Open In Colab\"/></a>"
      ]
    },
    {
      "cell_type": "markdown",
      "metadata": {
        "id": "z23UoePIKtnu",
        "colab_type": "text"
      },
      "source": [
        "##LINEAR REGRESSION"
      ]
    },
    {
      "cell_type": "markdown",
      "metadata": {
        "id": "i6fK0Q4lEchp",
        "colab_type": "text"
      },
      "source": [
        "##Predict the grade using linear regression"
      ]
    },
    {
      "cell_type": "code",
      "metadata": {
        "id": "FNMVwmiC2Frv",
        "colab_type": "code",
        "colab": {
          "base_uri": "https://localhost:8080/",
          "height": 120
        },
        "outputId": "22464740-d9b9-4c6a-caec-b95db1fd1910"
      },
      "source": [
        "from google.colab import drive\n",
        "drive.mount('/content/drive')"
      ],
      "execution_count": 2,
      "outputs": [
        {
          "output_type": "stream",
          "text": [
            "Go to this URL in a browser: https://accounts.google.com/o/oauth2/auth?client_id=947318989803-6bn6qk8qdgf4n4g3pfee6491hc0brc4i.apps.googleusercontent.com&redirect_uri=urn%3aietf%3awg%3aoauth%3a2.0%3aoob&response_type=code&scope=email%20https%3a%2f%2fwww.googleapis.com%2fauth%2fdocs.test%20https%3a%2f%2fwww.googleapis.com%2fauth%2fdrive%20https%3a%2f%2fwww.googleapis.com%2fauth%2fdrive.photos.readonly%20https%3a%2f%2fwww.googleapis.com%2fauth%2fpeopleapi.readonly\n",
            "\n",
            "Enter your authorization code:\n",
            "··········\n",
            "Mounted at /content/drive\n"
          ],
          "name": "stdout"
        }
      ]
    },
    {
      "cell_type": "code",
      "metadata": {
        "id": "KdrhjGar850S",
        "colab_type": "code",
        "colab": {}
      },
      "source": [
        "import pandas as pd  \n",
        "import numpy as np  \n",
        "import matplotlib.pyplot as plt \n",
        "mark='/content/drive/My Drive/Colab Notebooks/marksheet.csv'"
      ],
      "execution_count": 5,
      "outputs": []
    },
    {
      "cell_type": "code",
      "metadata": {
        "id": "pXz0aEm88wgi",
        "colab_type": "code",
        "colab": {
          "base_uri": "https://localhost:8080/",
          "height": 546
        },
        "outputId": "68caa305-b382-4865-9c4a-10317ff54ce8"
      },
      "source": [
        "data= pd.read_csv(mark)\n",
        "#print(data)\n",
        "data.columns=['x','y']\n",
        "X=data.iloc[:,data.columns!='y']\n",
        "Y=data.iloc[:,data.columns=='y']\n",
        "\n",
        "mean_x=float(np.mean(X))\n",
        "mean_y=float(np.mean(Y))\n",
        "\n",
        "#cost function\n",
        "def cost_function(weight, bias):\n",
        "    total_error = 0.0\n",
        "    for i in X.index:\n",
        "        total_error += (float(Y['y'][i]) - (weight*float(X['x'][i]) + bias))**2\n",
        "    return total_error / len(X)\n",
        "\n",
        "def update_weights(weight, bias, learning_rate):\n",
        "    weight_deriv = 0\n",
        "    bias_deriv = 0\n",
        "\n",
        "    for i in X.index:\n",
        "        # Calculate partial derivatives\n",
        "        # -2x(y - (mx + b))\n",
        "        weight_deriv += -2*float(X['x'][i]) * (float(Y['y'][i]) - (weight*float(X['x'][i]) + bias))\n",
        "\n",
        "        # -2(y - (mx + b))\n",
        "        bias_deriv += -2*(float(Y['y'][i]) - (weight*float(X['x'][i]) + bias))\n",
        "\n",
        "    # We subtract because the derivatives point in direction of steepest ascent\n",
        "    weight -= (weight_deriv / len(X)) * learning_rate\n",
        "    bias -= (bias_deriv / len(X)) * learning_rate\n",
        "\n",
        "    return weight, bias\n",
        "\n",
        "def train( weight, bias, learning_rate, iters):\n",
        "    cost_history = []\n",
        "\n",
        "    for i in range(iters):\n",
        "        weight,bias = update_weights( weight, bias, learning_rate)\n",
        "\n",
        "        #Calculate cost for auditing purposes\n",
        "        cost = cost_function(weight, bias)\n",
        "        cost_history.append(cost)\n",
        "\n",
        "        # Log Progress\n",
        "        #if i % 10 == 0:\n",
        "            #print (\"iter={:d}    weight={:.2f}    bias={:.4f}    cost={:.2}\".format(i, weight, bias, cost))\n",
        "\n",
        "    return weight, bias, cost_history\n",
        "\n",
        "weight, bias, cost_history=train(0,0,0.000001,1000)\n",
        "Y_pred=[]\n",
        "for i in X.index:\n",
        "  y=(weight*float(X['x'][i])+bias)\n",
        "  Y_pred.append(y)\n",
        "\n",
        "plt.scatter(X, Y)\n",
        "plt.plot(X, Y_pred, color='red')\n",
        "plt.plot()\n",
        "plt.show()\n",
        "plt.title(\"Cost History vs No.of iteration\")\n",
        "plt.plot(range(1000),cost_history)"
      ],
      "execution_count": 168,
      "outputs": [
        {
          "output_type": "display_data",
          "data": {
            "image/png": "[encoded data removed]",
            "text/plain": [
              "<Figure size 432x288 with 1 Axes>"
            ]
          },
          "metadata": {
            "tags": [],
            "needs_background": "light"
          }
        },
        {
          "output_type": "execute_result",
          "data": {
            "text/plain": [
              "[<matplotlib.lines.Line2D at 0x7f65ccd485c0>]"
            ]
          },
          "metadata": {
            "tags": []
          },
          "execution_count": 168
        },
        {
          "output_type": "display_data",
          "data": {
            "image/png": "[encoded data removed]",
            "text/plain": [
              "<Figure size 432x288 with 1 Axes>"
            ]
          },
          "metadata": {
            "tags": [],
            "needs_background": "light"
          }
        }
      ]
    },
    {
      "cell_type": "markdown",
      "metadata": {
        "id": "jBJql7SPb2OM",
        "colab_type": "text"
      },
      "source": [
        "##Using least square"
      ]
    },
    {
      "cell_type": "code",
      "metadata": {
        "id": "GDP_3AoqaaoY",
        "colab_type": "code",
        "colab": {
          "base_uri": "https://localhost:8080/",
          "height": 282
        },
        "outputId": "ca088672-3397-4a68-df80-ff0eca185c6b"
      },
      "source": [
        "num = 0\n",
        "den = 0\n",
        "   \n",
        "for i in range(len(X)):\n",
        "    num += (X['x'][i] - mean_x)*(Y['y'][i] - mean_y)\n",
        "    den += (X['x'][i] - mean_x)**2\n",
        "m = num / den\n",
        "c = mean_y - m*mean_x\n",
        "print(m,c)\n",
        "\n",
        "Y_pred = m*X + c\n",
        "\n",
        "plt.scatter(X, Y) # actual\n",
        "# plt.scatter(X, Y_pred, color='red')\n",
        "plt.plot(X,Y_pred, color='red') # predicted\n",
        "plt.show()"
      ],
      "execution_count": 150,
      "outputs": [
        {
          "output_type": "stream",
          "text": [
            "0.040149396667305125 5.52188469641831\n"
          ],
          "name": "stdout"
        },
        {
          "output_type": "display_data",
          "data": {
            "image/png": "[encoded data removed]",
            "text/plain": [
              "<Figure size 432x288 with 1 Axes>"
            ]
          },
          "metadata": {
            "tags": [],
            "needs_background": "light"
          }
        }
      ]
    },
    {
      "cell_type": "code",
      "metadata": {
        "id": "6tmicNcAVzdn",
        "colab_type": "code",
        "colab": {}
      },
      "source": [
        " import pandas as pd  \n",
        "import numpy as np  \n",
        "import matplotlib.pyplot as plt  \n",
        "from sklearn.model_selection import train_test_split \n",
        "from sklearn.linear_model import LinearRegression\n",
        "from sklearn import metrics\n",
        "%matplotlib inline"
      ],
      "execution_count": 126,
      "outputs": []
    },
    {
      "cell_type": "code",
      "metadata": {
        "id": "KhUt2wjTV984",
        "colab_type": "code",
        "colab": {
          "base_uri": "https://localhost:8080/",
          "height": 980
        },
        "outputId": "a588b3eb-009b-44f3-de43-e84c93aaaaf6"
      },
      "source": [
        "data= pd.read_csv(mark)\n",
        "data.columns=['x','y']\n",
        "X=data.iloc[:,data.columns!='y']\n",
        "Y=data.iloc[:,data.columns=='y']\n",
        "X_train, X_test, Y_train, Y_test = train_test_split(X, Y, test_size=0.2, random_state= 0)\n",
        "model =LinearRegression()\n",
        "model.fit(X_train, Y_train)\n",
        "y_pred = model.predict(X_test)\n",
        "#Train data\n",
        "print(\"Train data\")\n",
        "linear_regressor = LinearRegression()  # create object for the class\n",
        "linear_regressor.fit(X, Y)  # perform linear regression\n",
        "Y_pred = linear_regressor.predict(X)\n",
        "plt.scatter(X, Y)\n",
        "plt.plot(X, Y_pred, color='red')\n",
        "plt.plot()\n",
        "plt.show()\n",
        "print(\"Test data\")\n",
        "print(\"Actual Grade\")\n",
        "print(Y_test)\n",
        "print(\"Predicted Grade\")\n",
        "print (np.round(y_pred))\n",
        "plt.scatter(X_test, Y_test,  color='gray')\n",
        "plt.plot(X_test, y_pred, color='red', linewidth=2)\n",
        "plt.show()\n",
        "print('Mean Absolute Error:', metrics.mean_absolute_error(Y_test, y_pred))  \n",
        "print('Mean Squared Error:', metrics.mean_squared_error(Y_test, y_pred))  \n",
        "print('Root Mean Squared Error:', np.sqrt(metrics.mean_squared_error(Y_test, y_pred)))"
      ],
      "execution_count": 154,
      "outputs": [
        {
          "output_type": "stream",
          "text": [
            "Train data\n"
          ],
          "name": "stdout"
        },
        {
          "output_type": "display_data",
          "data": {
            "image/png": "[encoded data removed]",
            "text/plain": [
              "<Figure size 432x288 with 1 Axes>"
            ]
          },
          "metadata": {
            "tags": [],
            "needs_background": "light"
          }
        },
        {
          "output_type": "stream",
          "text": [
            "Test data\n",
            "Actual Grade\n",
            "    y\n",
            "29  9\n",
            "4   8\n",
            "26  8\n",
            "30  8\n",
            "32  9\n",
            "37  6\n",
            "34  8\n",
            "40  8\n",
            "7   9\n",
            "10  8\n",
            "Predicted Grade\n",
            "[[9.]\n",
            " [8.]\n",
            " [8.]\n",
            " [9.]\n",
            " [9.]\n",
            " [8.]\n",
            " [9.]\n",
            " [8.]\n",
            " [8.]\n",
            " [8.]]\n"
          ],
          "name": "stdout"
        },
        {
          "output_type": "display_data",
          "data": {
            "image/png": "[encoded data removed]",
            "text/plain": [
              "<Figure size 432x288 with 1 Axes>"
            ]
          },
          "metadata": {
            "tags": [],
            "needs_background": "light"
          }
        },
        {
          "output_type": "stream",
          "text": [
            "Mean Absolute Error: 0.5314562733880778\n",
            "Mean Squared Error: 0.5604384721760381\n",
            "Root Mean Squared Error: 0.7486243865758303\n"
          ],
          "name": "stdout"
        }
      ]
    }
  ]
}